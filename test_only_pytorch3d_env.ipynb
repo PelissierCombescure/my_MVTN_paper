{
 "cells": [
  {
   "cell_type": "code",
   "execution_count": 1,
   "metadata": {},
   "outputs": [
    {
     "name": "stderr",
     "output_type": "stream",
     "text": [
      "/home/mpelissi/anaconda3/envs/MVTN_env3/lib/python3.8/site-packages/tqdm/auto.py:21: TqdmWarning: IProgress not found. Please update jupyter and ipywidgets. See https://ipywidgets.readthedocs.io/en/stable/user_install.html\n",
      "  from .autonotebook import tqdm as notebook_tqdm\n"
     ]
    }
   ],
   "source": [
    "from pytorch3d.structures import Meshes"
   ]
  },
  {
   "cell_type": "code",
   "execution_count": 2,
   "metadata": {},
   "outputs": [],
   "source": [
    "import torch"
   ]
  },
  {
   "cell_type": "code",
   "execution_count": 3,
   "metadata": {},
   "outputs": [],
   "source": [
    "import torch\n",
    "import torch.nn as nn\n",
    "import sys\n",
    "import torch.backends.cudnn as cudnn\n",
    "from torch.utils.data import DataLoader\n",
    "from torch.autograd import Variable\n",
    "\n",
    "\n",
    "import scipy\n",
    "import scipy.spatial\n",
    "\n",
    "\n",
    "from tqdm import tqdm\n",
    "import pickle as pkl\n",
    "\n",
    "\n",
    "#import torchvision.transforms as transforms\n",
    "import torchvision\n",
    "\n",
    "import argparse\n",
    "import numpy as np\n",
    "import time\n",
    "import os\n",
    "\n",
    "\n",
    "from util import *\n",
    "from ops import *\n",
    "\n",
    "from models.pointnet import *\n",
    "from models.mvtn import *\n",
    "from models.multi_view import *\n",
    "from models.renderer import *\n",
    "\n",
    "\n",
    "from torch.utils.tensorboard import SummaryWriter\n",
    "from custom_dataset import ModelNet40, collate_fn, ShapeNetCore, ScanObjectNN\n",
    "from rotationNet.mvt_rotnet import RotationNet, AverageMeter, my_accuracy\n",
    "from viewGCN.tools.Trainer_mvt import ModelNetTrainer_mvt\n"
   ]
  },
  {
   "cell_type": "markdown",
   "metadata": {},
   "source": [
    "# error : import torch problem undefined symbol: iJIT_NotifyEvent\n",
    "\n",
    "# solution : conda install mkl==2024.0"
   ]
  },
  {
   "cell_type": "markdown",
   "metadata": {},
   "source": []
  }
 ],
 "metadata": {
  "kernelspec": {
   "display_name": "MVTN_env3",
   "language": "python",
   "name": "python3"
  },
  "language_info": {
   "codemirror_mode": {
    "name": "ipython",
    "version": 3
   },
   "file_extension": ".py",
   "mimetype": "text/x-python",
   "name": "python",
   "nbconvert_exporter": "python",
   "pygments_lexer": "ipython3",
   "version": "3.8.20"
  }
 },
 "nbformat": 4,
 "nbformat_minor": 2
}
